{
 "cells": [
  {
   "cell_type": "code",
   "execution_count": 1,
   "metadata": {
    "collapsed": true,
    "deletable": true,
    "editable": true
   },
   "outputs": [],
   "source": [
    "import csv\n",
    "import matplotlib.image\n",
    "import matplotlib.pyplot as plt\n",
    "import pandas as pd\n",
    "import numpy\n",
    "from operator import itemgetter\n",
    "\n",
    "%matplotlib inline\n",
    "matplotlib.rc('font', family = 'nanumgothic')\n",
    "\n",
    "tashu = pd.read_csv('tashu.csv')\n",
    "station = pd.read_csv('station.csv')"
   ]
  },
  {
   "cell_type": "code",
   "execution_count": 2,
   "metadata": {
    "collapsed": false,
    "deletable": true,
    "editable": true
   },
   "outputs": [
    {
     "data": {
      "text/plain": [
       "0   2013-01-01 05:56:03\n",
       "1   2013-01-01 06:04:00\n",
       "2   2013-01-01 06:04:06\n",
       "3   2013-01-01 10:53:05\n",
       "4   2013-01-01 11:22:23\n",
       "Name: RENT_DATE, dtype: datetime64[ns]"
      ]
     },
     "execution_count": 2,
     "metadata": {},
     "output_type": "execute_result"
    }
   ],
   "source": [
    "tashu['RENT_DATE'] = pd.to_datetime(tashu['RENT_DATE'], format = '%Y%m%d%H%M%S')\n",
    "tashu['RENT_DATE'][:5]"
   ]
  },
  {
   "cell_type": "code",
   "execution_count": 3,
   "metadata": {
    "collapsed": false,
    "deletable": true,
    "editable": true
   },
   "outputs": [],
   "source": [
    "tashu['hour'] = pd.DatetimeIndex(tashu['RENT_DATE']).hour"
   ]
  },
  {
   "cell_type": "code",
   "execution_count": 4,
   "metadata": {
    "collapsed": false,
    "deletable": true,
    "editable": true
   },
   "outputs": [
    {
     "data": {
      "text/plain": [
       "18    292905\n",
       "21    273561\n",
       "20    259816\n",
       "22    251385\n",
       "17    250842\n",
       "23    241265\n",
       "19    241023\n",
       "16    194413\n",
       "8     186421\n",
       "14    173437\n",
       "15    167018\n",
       "13    157488\n",
       "9     142126\n",
       "7     129110\n",
       "12    118768\n",
       "10    111652\n",
       "11     96250\n",
       "0      63022\n",
       "6      22152\n",
       "5      16591\n",
       "1      15205\n",
       "2        199\n",
       "4         11\n",
       "3          3\n",
       "Name: hour, dtype: int64"
      ]
     },
     "execution_count": 4,
     "metadata": {},
     "output_type": "execute_result"
    }
   ],
   "source": [
    "tashu['hour'].value_counts()"
   ]
  },
  {
   "cell_type": "code",
   "execution_count": 5,
   "metadata": {
    "collapsed": false,
    "deletable": true,
    "editable": true
   },
   "outputs": [
    {
     "data": {
      "text/plain": [
       "<matplotlib.axes._subplots.AxesSubplot at 0x7fd96ab46d68>"
      ]
     },
     "execution_count": 5,
     "metadata": {},
     "output_type": "execute_result"
    },
    {
     "data": {
      "image/png": "[encoded data removed]",
      "text/plain": [
       "<matplotlib.figure.Figure at 0x7fd99347e5c0>"
      ]
     },
     "metadata": {},
     "output_type": "display_data"
    }
   ],
   "source": [
    "tashu['hour'].value_counts().plot(kind = 'bar')"
   ]
  }
 ],
 "metadata": {
  "kernelspec": {
   "display_name": "Python 3",
   "language": "python",
   "name": "python3"
  },
  "language_info": {
   "codemirror_mode": {
    "name": "ipython",
    "version": 3
   },
   "file_extension": ".py",
   "mimetype": "text/x-python",
   "name": "python",
   "nbconvert_exporter": "python",
   "pygments_lexer": "ipython3",
   "version": "3.5.2"
  }
 },
 "nbformat": 4,
 "nbformat_minor": 2
}

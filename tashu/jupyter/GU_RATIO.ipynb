{
 "cells": [
  {
   "cell_type": "code",
   "execution_count": 1,
   "metadata": {
    "collapsed": true,
    "deletable": true,
    "editable": true
   },
   "outputs": [],
   "source": [
    "import csv\n",
    "import matplotlib.image\n",
    "import matplotlib.pyplot as plt\n",
    "import pandas as pd\n",
    "import numpy\n",
    "from operator import itemgetter\n",
    "\n",
    "%matplotlib inline\n",
    "matplotlib.rc('font', family = 'nanumgothic')\n",
    "\n",
    "tashu = pd.read_csv('tashu.csv')\n",
    "station = pd.read_csv('station.csv')"
   ]
  },
  {
   "cell_type": "code",
   "execution_count": 2,
   "metadata": {
    "collapsed": false,
    "deletable": true,
    "editable": true
   },
   "outputs": [
    {
     "data": {
      "text/html": [
       "<div>\n",
       "<table border=\"1\" class=\"dataframe\">\n",
       "  <thead>\n",
       "    <tr style=\"text-align: right;\">\n",
       "      <th></th>\n",
       "      <th>RENT_STATION</th>\n",
       "      <th>RENT_DATE</th>\n",
       "      <th>RETURN_STATION</th>\n",
       "      <th>RETURN_DATE</th>\n",
       "      <th>STATION</th>\n",
       "      <th>GU</th>\n",
       "      <th>NAME</th>\n",
       "      <th>LOCATION</th>\n",
       "      <th>ADDR</th>\n",
       "      <th>BIKEPORT</th>\n",
       "      <th>COORDINATE</th>\n",
       "    </tr>\n",
       "  </thead>\n",
       "  <tbody>\n",
       "    <tr>\n",
       "      <th>0</th>\n",
       "      <td>43.0</td>\n",
       "      <td>20130101055603</td>\n",
       "      <td>34.0</td>\n",
       "      <td>2.013010e+13</td>\n",
       "      <td>43</td>\n",
       "      <td>서구</td>\n",
       "      <td>둔산여고 앞</td>\n",
       "      <td>둔산여고 정문 맞은편</td>\n",
       "      <td>서구 둔산동 1526</td>\n",
       "      <td>13</td>\n",
       "      <td>36.353331, 127.374415</td>\n",
       "    </tr>\n",
       "    <tr>\n",
       "      <th>1</th>\n",
       "      <td>43.0</td>\n",
       "      <td>20130101144357</td>\n",
       "      <td>43.0</td>\n",
       "      <td>2.013010e+13</td>\n",
       "      <td>43</td>\n",
       "      <td>서구</td>\n",
       "      <td>둔산여고 앞</td>\n",
       "      <td>둔산여고 정문 맞은편</td>\n",
       "      <td>서구 둔산동 1526</td>\n",
       "      <td>13</td>\n",
       "      <td>36.353331, 127.374415</td>\n",
       "    </tr>\n",
       "    <tr>\n",
       "      <th>2</th>\n",
       "      <td>43.0</td>\n",
       "      <td>20130102061822</td>\n",
       "      <td>7.0</td>\n",
       "      <td>2.013010e+13</td>\n",
       "      <td>43</td>\n",
       "      <td>서구</td>\n",
       "      <td>둔산여고 앞</td>\n",
       "      <td>둔산여고 정문 맞은편</td>\n",
       "      <td>서구 둔산동 1526</td>\n",
       "      <td>13</td>\n",
       "      <td>36.353331, 127.374415</td>\n",
       "    </tr>\n",
       "  </tbody>\n",
       "</table>\n",
       "</div>"
      ],
      "text/plain": [
       "   RENT_STATION       RENT_DATE  RETURN_STATION   RETURN_DATE  STATION  GU  \\\n",
       "0          43.0  20130101055603            34.0  2.013010e+13       43  서구   \n",
       "1          43.0  20130101144357            43.0  2.013010e+13       43  서구   \n",
       "2          43.0  20130102061822             7.0  2.013010e+13       43  서구   \n",
       "\n",
       "     NAME     LOCATION          ADDR  BIKEPORT             COORDINATE  \n",
       "0  둔산여고 앞  둔산여고 정문 맞은편   서구 둔산동 1526        13  36.353331, 127.374415  \n",
       "1  둔산여고 앞  둔산여고 정문 맞은편   서구 둔산동 1526        13  36.353331, 127.374415  \n",
       "2  둔산여고 앞  둔산여고 정문 맞은편   서구 둔산동 1526        13  36.353331, 127.374415  "
      ]
     },
     "execution_count": 2,
     "metadata": {},
     "output_type": "execute_result"
    }
   ],
   "source": [
    "rent_merged = pd.merge(left = tashu, right = station, left_on = 'RENT_STATION', right_on = 'STATION')\n",
    "rent_merged[:3]"
   ]
  },
  {
   "cell_type": "code",
   "execution_count": 3,
   "metadata": {
    "collapsed": false,
    "deletable": true,
    "editable": true
   },
   "outputs": [
    {
     "data": {
      "text/html": [
       "<div>\n",
       "<table border=\"1\" class=\"dataframe\">\n",
       "  <thead>\n",
       "    <tr style=\"text-align: right;\">\n",
       "      <th></th>\n",
       "      <th>RENT_STATION</th>\n",
       "      <th>RENT_DATE</th>\n",
       "      <th>RETURN_STATION</th>\n",
       "      <th>RETURN_DATE</th>\n",
       "      <th>STATION</th>\n",
       "      <th>GU</th>\n",
       "      <th>NAME</th>\n",
       "      <th>LOCATION</th>\n",
       "      <th>ADDR</th>\n",
       "      <th>BIKEPORT</th>\n",
       "      <th>COORDINATE</th>\n",
       "    </tr>\n",
       "  </thead>\n",
       "  <tbody>\n",
       "    <tr>\n",
       "      <th>0</th>\n",
       "      <td>43.0</td>\n",
       "      <td>20130101055603</td>\n",
       "      <td>34.0</td>\n",
       "      <td>2.013010e+13</td>\n",
       "      <td>34</td>\n",
       "      <td>서구</td>\n",
       "      <td>진달래아파트앞</td>\n",
       "      <td>진달래 아파트 107동 쪽문 앞 버스정류장 앞/ 대로변</td>\n",
       "      <td>서구 월평동 604</td>\n",
       "      <td>13</td>\n",
       "      <td>36.357889, 127.365972</td>\n",
       "    </tr>\n",
       "    <tr>\n",
       "      <th>1</th>\n",
       "      <td>12.0</td>\n",
       "      <td>20130101174939</td>\n",
       "      <td>34.0</td>\n",
       "      <td>2.013010e+13</td>\n",
       "      <td>34</td>\n",
       "      <td>서구</td>\n",
       "      <td>진달래아파트앞</td>\n",
       "      <td>진달래 아파트 107동 쪽문 앞 버스정류장 앞/ 대로변</td>\n",
       "      <td>서구 월평동 604</td>\n",
       "      <td>13</td>\n",
       "      <td>36.357889, 127.365972</td>\n",
       "    </tr>\n",
       "    <tr>\n",
       "      <th>2</th>\n",
       "      <td>34.0</td>\n",
       "      <td>20130101194504</td>\n",
       "      <td>34.0</td>\n",
       "      <td>2.013010e+13</td>\n",
       "      <td>34</td>\n",
       "      <td>서구</td>\n",
       "      <td>진달래아파트앞</td>\n",
       "      <td>진달래 아파트 107동 쪽문 앞 버스정류장 앞/ 대로변</td>\n",
       "      <td>서구 월평동 604</td>\n",
       "      <td>13</td>\n",
       "      <td>36.357889, 127.365972</td>\n",
       "    </tr>\n",
       "  </tbody>\n",
       "</table>\n",
       "</div>"
      ],
      "text/plain": [
       "   RENT_STATION       RENT_DATE  RETURN_STATION   RETURN_DATE  STATION  GU  \\\n",
       "0          43.0  20130101055603            34.0  2.013010e+13       34  서구   \n",
       "1          12.0  20130101174939            34.0  2.013010e+13       34  서구   \n",
       "2          34.0  20130101194504            34.0  2.013010e+13       34  서구   \n",
       "\n",
       "      NAME                        LOCATION         ADDR  BIKEPORT  \\\n",
       "0  진달래아파트앞  진달래 아파트 107동 쪽문 앞 버스정류장 앞/ 대로변   서구 월평동 604        13   \n",
       "1  진달래아파트앞  진달래 아파트 107동 쪽문 앞 버스정류장 앞/ 대로변   서구 월평동 604        13   \n",
       "2  진달래아파트앞  진달래 아파트 107동 쪽문 앞 버스정류장 앞/ 대로변   서구 월평동 604        13   \n",
       "\n",
       "              COORDINATE  \n",
       "0  36.357889, 127.365972  \n",
       "1  36.357889, 127.365972  \n",
       "2  36.357889, 127.365972  "
      ]
     },
     "execution_count": 3,
     "metadata": {},
     "output_type": "execute_result"
    }
   ],
   "source": [
    "return_merged = pd.merge(left = tashu, right = station, left_on = 'RETURN_STATION', right_on = 'STATION')\n",
    "return_merged[:3]"
   ]
  },
  {
   "cell_type": "code",
   "execution_count": 4,
   "metadata": {
    "collapsed": false,
    "deletable": true,
    "editable": true
   },
   "outputs": [
    {
     "data": {
      "text/plain": [
       "서구     3185904\n",
       "유성구    2285247\n",
       "중구      514014\n",
       "대덕구     377519\n",
       "동구      245855\n",
       "Name: GU, dtype: int64"
      ]
     },
     "execution_count": 4,
     "metadata": {},
     "output_type": "execute_result"
    }
   ],
   "source": [
    "merged = rent_merged['GU'].value_counts() + return_merged['GU'].value_counts()\n",
    "merged"
   ]
  },
  {
   "cell_type": "code",
   "execution_count": 5,
   "metadata": {
    "collapsed": false,
    "deletable": true,
    "editable": true
   },
   "outputs": [
    {
     "data": {
      "text/plain": [
       "<matplotlib.axes._subplots.AxesSubplot at 0x7f3358f377b8>"
      ]
     },
     "execution_count": 5,
     "metadata": {},
     "output_type": "execute_result"
    },
    {
     "data": {
      "image/png": "[encoded data removed]",
      "text/plain": [
       "<matplotlib.figure.Figure at 0x7f33801fb9b0>"
      ]
     },
     "metadata": {},
     "output_type": "display_data"
    }
   ],
   "source": [
    "merged.plot(kind = 'bar')"
   ]
  }
 ],
 "metadata": {
  "kernelspec": {
   "display_name": "Python 3",
   "language": "python",
   "name": "python3"
  },
  "language_info": {
   "codemirror_mode": {
    "name": "ipython",
    "version": 3
   },
   "file_extension": ".py",
   "mimetype": "text/x-python",
   "name": "python",
   "nbconvert_exporter": "python",
   "pygments_lexer": "ipython3",
   "version": "3.5.2"
  }
 },
 "nbformat": 4,
 "nbformat_minor": 2
}

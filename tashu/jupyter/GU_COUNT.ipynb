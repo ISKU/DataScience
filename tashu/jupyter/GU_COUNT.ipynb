{
 "cells": [
  {
   "cell_type": "code",
   "execution_count": 2,
   "metadata": {
    "collapsed": false,
    "deletable": true,
    "editable": true
   },
   "outputs": [],
   "source": [
    "import csv\n",
    "import matplotlib.image\n",
    "import matplotlib.pyplot as plt\n",
    "import pandas as pd\n",
    "import numpy\n",
    "from operator import itemgetter\n",
    "\n",
    "station = pd.read_csv('station.csv')"
   ]
  },
  {
   "cell_type": "code",
   "execution_count": 4,
   "metadata": {
    "collapsed": false,
    "deletable": true,
    "editable": true
   },
   "outputs": [
    {
     "data": {
      "text/html": [
       "<div>\n",
       "<table border=\"1\" class=\"dataframe\">\n",
       "  <thead>\n",
       "    <tr style=\"text-align: right;\">\n",
       "      <th></th>\n",
       "      <th>STATION</th>\n",
       "      <th>GU</th>\n",
       "      <th>NAME</th>\n",
       "      <th>LOCATION</th>\n",
       "      <th>ADDR</th>\n",
       "      <th>BIKEPORT</th>\n",
       "      <th>COORDINATE</th>\n",
       "    </tr>\n",
       "  </thead>\n",
       "  <tbody>\n",
       "    <tr>\n",
       "      <th>0</th>\n",
       "      <td>1</td>\n",
       "      <td>유성구</td>\n",
       "      <td>무역전시관입구(택시승강장 앞)</td>\n",
       "      <td>엑스포다리 맞은편</td>\n",
       "      <td>유성구 도룡동 3-8</td>\n",
       "      <td>14</td>\n",
       "      <td>36.374325,127.387462</td>\n",
       "    </tr>\n",
       "    <tr>\n",
       "      <th>1</th>\n",
       "      <td>2</td>\n",
       "      <td>유성구</td>\n",
       "      <td>대전컨벤션 센터 앞</td>\n",
       "      <td>둔산대교 맞은편</td>\n",
       "      <td>유성구 도룡동 4-19</td>\n",
       "      <td>20</td>\n",
       "      <td>36.374472,127.392241</td>\n",
       "    </tr>\n",
       "    <tr>\n",
       "      <th>2</th>\n",
       "      <td>3</td>\n",
       "      <td>서구</td>\n",
       "      <td>한밭수목원(정문입구)</td>\n",
       "      <td>한밭수목원 내</td>\n",
       "      <td>서구 만년동 396</td>\n",
       "      <td>19</td>\n",
       "      <td>36.369855,127.388749</td>\n",
       "    </tr>\n",
       "  </tbody>\n",
       "</table>\n",
       "</div>"
      ],
      "text/plain": [
       "   STATION   GU              NAME   LOCATION           ADDR  BIKEPORT  \\\n",
       "0        1  유성구  무역전시관입구(택시승강장 앞)  엑스포다리 맞은편    유성구 도룡동 3-8        14   \n",
       "1        2  유성구        대전컨벤션 센터 앞   둔산대교 맞은편   유성구 도룡동 4-19        20   \n",
       "2        3   서구       한밭수목원(정문입구)    한밭수목원 내     서구 만년동 396        19   \n",
       "\n",
       "             COORDINATE  \n",
       "0  36.374325,127.387462  \n",
       "1  36.374472,127.392241  \n",
       "2  36.369855,127.388749  "
      ]
     },
     "execution_count": 4,
     "metadata": {},
     "output_type": "execute_result"
    }
   ],
   "source": [
    "station[:3]"
   ]
  },
  {
   "cell_type": "code",
   "execution_count": 5,
   "metadata": {
    "collapsed": false,
    "deletable": true,
    "editable": true
   },
   "outputs": [
    {
     "data": {
      "text/plain": [
       "서구     46\n",
       "유성구    35\n",
       "중구     23\n",
       "대덕구    23\n",
       "동구     17\n",
       "Name: GU, dtype: int64"
      ]
     },
     "execution_count": 5,
     "metadata": {},
     "output_type": "execute_result"
    }
   ],
   "source": [
    "station['GU'].value_counts()"
   ]
  },
  {
   "cell_type": "code",
   "execution_count": 6,
   "metadata": {
    "collapsed": false,
    "deletable": true,
    "editable": true
   },
   "outputs": [
    {
     "data": {
      "text/plain": [
       "<matplotlib.axes._subplots.AxesSubplot at 0x7f6eec8d3cc0>"
      ]
     },
     "execution_count": 6,
     "metadata": {},
     "output_type": "execute_result"
    },
    {
     "data": {
      "image/png": "[encoded data removed]",
      "text/plain": [
       "<matplotlib.figure.Figure at 0x7f6eec91b978>"
      ]
     },
     "metadata": {},
     "output_type": "display_data"
    }
   ],
   "source": [
    "%matplotlib inline\n",
    "matplotlib.rc('font', family = 'nanumgothic')\n",
    "\n",
    "station['GU'].value_counts().plot(kind = 'bar')"
   ]
  }
 ],
 "metadata": {
  "kernelspec": {
   "display_name": "Python 3",
   "language": "python",
   "name": "python3"
  },
  "language_info": {
   "codemirror_mode": {
    "name": "ipython",
    "version": 3
   },
   "file_extension": ".py",
   "mimetype": "text/x-python",
   "name": "python",
   "nbconvert_exporter": "python",
   "pygments_lexer": "ipython3",
   "version": "3.5.2"
  }
 },
 "nbformat": 4,
 "nbformat_minor": 2
}

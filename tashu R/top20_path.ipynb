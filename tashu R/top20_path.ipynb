{
 "cells": [
  {
   "cell_type": "code",
   "execution_count": 2,
   "metadata": {
    "collapsed": true
   },
   "outputs": [],
   "source": [
    "library(ggplot2)\n",
    "tashu <- na.omit(read.csv('tashu.csv', header = TRUE))"
   ]
  },
  {
   "cell_type": "code",
   "execution_count": 3,
   "metadata": {
    "collapsed": false
   },
   "outputs": [
    {
     "data": {
      "text/html": [
       "<table>\n",
       "<thead><tr><th></th><th scope=col>Var1</th><th scope=col>Var2</th><th scope=col>Freq</th></tr></thead>\n",
       "<tbody>\n",
       "\t<tr><th scope=row>407</th><td>3    </td><td>3    </td><td>84496</td></tr>\n",
       "\t<tr><th scope=row>6091</th><td>31   </td><td>31   </td><td>21749</td></tr>\n",
       "\t<tr><th scope=row>11166</th><td>56   </td><td>56   </td><td>18343</td></tr>\n",
       "\t<tr><th scope=row>21029</th><td>21   </td><td>105  </td><td>17220</td></tr>\n",
       "\t<tr><th scope=row>1</th><td>1    </td><td>1    </td><td>14489</td></tr>\n",
       "\t<tr><th scope=row>6294</th><td>32   </td><td>32   </td><td>12177</td></tr>\n",
       "\t<tr><th scope=row>4145</th><td>105  </td><td>21   </td><td>12154</td></tr>\n",
       "\t<tr><th scope=row>6497</th><td>33   </td><td>33   </td><td>11973</td></tr>\n",
       "\t<tr><th scope=row>3249</th><td>17   </td><td>17   </td><td>11966</td></tr>\n",
       "\t<tr><th scope=row>6318</th><td>56   </td><td>32   </td><td>11868</td></tr>\n",
       "\t<tr><th scope=row>11142</th><td>32   </td><td>56   </td><td>11118</td></tr>\n",
       "\t<tr><th scope=row>10963</th><td>55   </td><td>55   </td><td>11111</td></tr>\n",
       "\t<tr><th scope=row>813</th><td>5    </td><td>5    </td><td>10798</td></tr>\n",
       "\t<tr><th scope=row>21722</th><td>108  </td><td>108  </td><td> 9926</td></tr>\n",
       "\t<tr><th scope=row>18068</th><td>90   </td><td>90   </td><td> 9650</td></tr>\n",
       "\t<tr><th scope=row>1422</th><td>8    </td><td>8    </td><td> 9560</td></tr>\n",
       "\t<tr><th scope=row>2640</th><td>14   </td><td>14   </td><td> 9231</td></tr>\n",
       "\t<tr><th scope=row>4061</th><td>21   </td><td>21   </td><td> 9006</td></tr>\n",
       "\t<tr><th scope=row>3452</th><td>18   </td><td>18   </td><td> 8192</td></tr>\n",
       "\t<tr><th scope=row>4347</th><td>105  </td><td>22   </td><td> 8074</td></tr>\n",
       "</tbody>\n",
       "</table>\n"
      ],
      "text/latex": [
       "\\begin{tabular}{r|lll}\n",
       "  & Var1 & Var2 & Freq\\\\\n",
       "\\hline\n",
       "\t407 & 3     & 3     & 84496\\\\\n",
       "\t6091 & 31    & 31    & 21749\\\\\n",
       "\t11166 & 56    & 56    & 18343\\\\\n",
       "\t21029 & 21    & 105   & 17220\\\\\n",
       "\t1 & 1     & 1     & 14489\\\\\n",
       "\t6294 & 32    & 32    & 12177\\\\\n",
       "\t4145 & 105   & 21    & 12154\\\\\n",
       "\t6497 & 33    & 33    & 11973\\\\\n",
       "\t3249 & 17    & 17    & 11966\\\\\n",
       "\t6318 & 56    & 32    & 11868\\\\\n",
       "\t11142 & 32    & 56    & 11118\\\\\n",
       "\t10963 & 55    & 55    & 11111\\\\\n",
       "\t813 & 5     & 5     & 10798\\\\\n",
       "\t21722 & 108   & 108   &  9926\\\\\n",
       "\t18068 & 90    & 90    &  9650\\\\\n",
       "\t1422 & 8     & 8     &  9560\\\\\n",
       "\t2640 & 14    & 14    &  9231\\\\\n",
       "\t4061 & 21    & 21    &  9006\\\\\n",
       "\t3452 & 18    & 18    &  8192\\\\\n",
       "\t4347 & 105   & 22    &  8074\\\\\n",
       "\\end{tabular}\n"
      ],
      "text/markdown": [
       "\n",
       "| <!--/--> | Var1 | Var2 | Freq | \n",
       "|---|---|---|---|---|---|---|---|---|---|---|---|---|---|---|---|---|---|---|---|\n",
       "| 407 | 3     | 3     | 84496 | \n",
       "| 6091 | 31    | 31    | 21749 | \n",
       "| 11166 | 56    | 56    | 18343 | \n",
       "| 21029 | 21    | 105   | 17220 | \n",
       "| 1 | 1     | 1     | 14489 | \n",
       "| 6294 | 32    | 32    | 12177 | \n",
       "| 4145 | 105   | 21    | 12154 | \n",
       "| 6497 | 33    | 33    | 11973 | \n",
       "| 3249 | 17    | 17    | 11966 | \n",
       "| 6318 | 56    | 32    | 11868 | \n",
       "| 11142 | 32    | 56    | 11118 | \n",
       "| 10963 | 55    | 55    | 11111 | \n",
       "| 813 | 5     | 5     | 10798 | \n",
       "| 21722 | 108   | 108   |  9926 | \n",
       "| 18068 | 90    | 90    |  9650 | \n",
       "| 1422 | 8     | 8     |  9560 | \n",
       "| 2640 | 14    | 14    |  9231 | \n",
       "| 4061 | 21    | 21    |  9006 | \n",
       "| 3452 | 18    | 18    |  8192 | \n",
       "| 4347 | 105   | 22    |  8074 | \n",
       "\n",
       "\n"
      ],
      "text/plain": [
       "      Var1 Var2 Freq \n",
       "407   3    3    84496\n",
       "6091  31   31   21749\n",
       "11166 56   56   18343\n",
       "21029 21   105  17220\n",
       "1     1    1    14489\n",
       "6294  32   32   12177\n",
       "4145  105  21   12154\n",
       "6497  33   33   11973\n",
       "3249  17   17   11966\n",
       "6318  56   32   11868\n",
       "11142 32   56   11118\n",
       "10963 55   55   11111\n",
       "813   5    5    10798\n",
       "21722 108  108   9926\n",
       "18068 90   90    9650\n",
       "1422  8    8     9560\n",
       "2640  14   14    9231\n",
       "4061  21   21    9006\n",
       "3452  18   18    8192\n",
       "4347  105  22    8074"
      ]
     },
     "metadata": {},
     "output_type": "display_data"
    }
   ],
   "source": [
    "top_path <- data.frame(table(tashu $ RENT_STATION, tashu $ RETURN_STATION))\n",
    "top_path <- top_path[order(top_path $ Freq, decreasing = T),]\n",
    "top_path <- head(top_path, n = 20)\n",
    "top_path"
   ]
  },
  {
   "cell_type": "code",
   "execution_count": 4,
   "metadata": {
    "collapsed": false
   },
   "outputs": [
    {
     "data": {
      "text/html": [
       "<table>\n",
       "<thead><tr><th></th><th scope=col>Var1</th><th scope=col>Var2</th><th scope=col>Freq</th><th scope=col>size</th></tr></thead>\n",
       "<tbody>\n",
       "\t<tr><th scope=row>407</th><td>3        </td><td>3        </td><td>84496    </td><td>28.165333</td></tr>\n",
       "\t<tr><th scope=row>6091</th><td>31       </td><td>31       </td><td>21749    </td><td> 7.249667</td></tr>\n",
       "\t<tr><th scope=row>11166</th><td>56       </td><td>56       </td><td>18343    </td><td> 6.114333</td></tr>\n",
       "\t<tr><th scope=row>21029</th><td>21       </td><td>105      </td><td>17220    </td><td> 5.740000</td></tr>\n",
       "\t<tr><th scope=row>1</th><td>1        </td><td>1        </td><td>14489    </td><td> 4.829667</td></tr>\n",
       "\t<tr><th scope=row>6294</th><td>32       </td><td>32       </td><td>12177    </td><td> 4.059000</td></tr>\n",
       "\t<tr><th scope=row>4145</th><td>105      </td><td>21       </td><td>12154    </td><td> 4.051333</td></tr>\n",
       "\t<tr><th scope=row>6497</th><td>33       </td><td>33       </td><td>11973    </td><td> 3.991000</td></tr>\n",
       "\t<tr><th scope=row>3249</th><td>17       </td><td>17       </td><td>11966    </td><td> 3.988667</td></tr>\n",
       "\t<tr><th scope=row>6318</th><td>56       </td><td>32       </td><td>11868    </td><td> 3.956000</td></tr>\n",
       "\t<tr><th scope=row>11142</th><td>32       </td><td>56       </td><td>11118    </td><td> 3.706000</td></tr>\n",
       "\t<tr><th scope=row>10963</th><td>55       </td><td>55       </td><td>11111    </td><td> 3.703667</td></tr>\n",
       "\t<tr><th scope=row>813</th><td>5        </td><td>5        </td><td>10798    </td><td> 3.599333</td></tr>\n",
       "\t<tr><th scope=row>21722</th><td>108      </td><td>108      </td><td> 9926    </td><td> 3.308667</td></tr>\n",
       "\t<tr><th scope=row>18068</th><td>90       </td><td>90       </td><td> 9650    </td><td> 3.216667</td></tr>\n",
       "\t<tr><th scope=row>1422</th><td>8        </td><td>8        </td><td> 9560    </td><td> 3.186667</td></tr>\n",
       "\t<tr><th scope=row>2640</th><td>14       </td><td>14       </td><td> 9231    </td><td> 3.077000</td></tr>\n",
       "\t<tr><th scope=row>4061</th><td>21       </td><td>21       </td><td> 9006    </td><td> 3.002000</td></tr>\n",
       "\t<tr><th scope=row>3452</th><td>18       </td><td>18       </td><td> 8192    </td><td> 2.730667</td></tr>\n",
       "\t<tr><th scope=row>4347</th><td>105      </td><td>22       </td><td> 8074    </td><td> 2.691333</td></tr>\n",
       "</tbody>\n",
       "</table>\n"
      ],
      "text/latex": [
       "\\begin{tabular}{r|llll}\n",
       "  & Var1 & Var2 & Freq & size\\\\\n",
       "\\hline\n",
       "\t407 & 3         & 3         & 84496     & 28.165333\\\\\n",
       "\t6091 & 31        & 31        & 21749     &  7.249667\\\\\n",
       "\t11166 & 56        & 56        & 18343     &  6.114333\\\\\n",
       "\t21029 & 21        & 105       & 17220     &  5.740000\\\\\n",
       "\t1 & 1         & 1         & 14489     &  4.829667\\\\\n",
       "\t6294 & 32        & 32        & 12177     &  4.059000\\\\\n",
       "\t4145 & 105       & 21        & 12154     &  4.051333\\\\\n",
       "\t6497 & 33        & 33        & 11973     &  3.991000\\\\\n",
       "\t3249 & 17        & 17        & 11966     &  3.988667\\\\\n",
       "\t6318 & 56        & 32        & 11868     &  3.956000\\\\\n",
       "\t11142 & 32        & 56        & 11118     &  3.706000\\\\\n",
       "\t10963 & 55        & 55        & 11111     &  3.703667\\\\\n",
       "\t813 & 5         & 5         & 10798     &  3.599333\\\\\n",
       "\t21722 & 108       & 108       &  9926     &  3.308667\\\\\n",
       "\t18068 & 90        & 90        &  9650     &  3.216667\\\\\n",
       "\t1422 & 8         & 8         &  9560     &  3.186667\\\\\n",
       "\t2640 & 14        & 14        &  9231     &  3.077000\\\\\n",
       "\t4061 & 21        & 21        &  9006     &  3.002000\\\\\n",
       "\t3452 & 18        & 18        &  8192     &  2.730667\\\\\n",
       "\t4347 & 105       & 22        &  8074     &  2.691333\\\\\n",
       "\\end{tabular}\n"
      ],
      "text/markdown": [
       "\n",
       "| <!--/--> | Var1 | Var2 | Freq | size | \n",
       "|---|---|---|---|---|---|---|---|---|---|---|---|---|---|---|---|---|---|---|---|\n",
       "| 407 | 3         | 3         | 84496     | 28.165333 | \n",
       "| 6091 | 31        | 31        | 21749     |  7.249667 | \n",
       "| 11166 | 56        | 56        | 18343     |  6.114333 | \n",
       "| 21029 | 21        | 105       | 17220     |  5.740000 | \n",
       "| 1 | 1         | 1         | 14489     |  4.829667 | \n",
       "| 6294 | 32        | 32        | 12177     |  4.059000 | \n",
       "| 4145 | 105       | 21        | 12154     |  4.051333 | \n",
       "| 6497 | 33        | 33        | 11973     |  3.991000 | \n",
       "| 3249 | 17        | 17        | 11966     |  3.988667 | \n",
       "| 6318 | 56        | 32        | 11868     |  3.956000 | \n",
       "| 11142 | 32        | 56        | 11118     |  3.706000 | \n",
       "| 10963 | 55        | 55        | 11111     |  3.703667 | \n",
       "| 813 | 5         | 5         | 10798     |  3.599333 | \n",
       "| 21722 | 108       | 108       |  9926     |  3.308667 | \n",
       "| 18068 | 90        | 90        |  9650     |  3.216667 | \n",
       "| 1422 | 8         | 8         |  9560     |  3.186667 | \n",
       "| 2640 | 14        | 14        |  9231     |  3.077000 | \n",
       "| 4061 | 21        | 21        |  9006     |  3.002000 | \n",
       "| 3452 | 18        | 18        |  8192     |  2.730667 | \n",
       "| 4347 | 105       | 22        |  8074     |  2.691333 | \n",
       "\n",
       "\n"
      ],
      "text/plain": [
       "      Var1 Var2 Freq  size     \n",
       "407   3    3    84496 28.165333\n",
       "6091  31   31   21749  7.249667\n",
       "11166 56   56   18343  6.114333\n",
       "21029 21   105  17220  5.740000\n",
       "1     1    1    14489  4.829667\n",
       "6294  32   32   12177  4.059000\n",
       "4145  105  21   12154  4.051333\n",
       "6497  33   33   11973  3.991000\n",
       "3249  17   17   11966  3.988667\n",
       "6318  56   32   11868  3.956000\n",
       "11142 32   56   11118  3.706000\n",
       "10963 55   55   11111  3.703667\n",
       "813   5    5    10798  3.599333\n",
       "21722 108  108   9926  3.308667\n",
       "18068 90   90    9650  3.216667\n",
       "1422  8    8     9560  3.186667\n",
       "2640  14   14    9231  3.077000\n",
       "4061  21   21    9006  3.002000\n",
       "3452  18   18    8192  2.730667\n",
       "4347  105  22    8074  2.691333"
      ]
     },
     "metadata": {},
     "output_type": "display_data"
    }
   ],
   "source": [
    "top_path $ Var1 <- as.factor(top_path $ Var1)\n",
    "top_path $ Var2 <- as.factor(top_path $ Var2)\n",
    "top_path $ size <- with(top_path, as.numeric(Freq) / 3000)\n",
    "top_path"
   ]
  },
  {
   "cell_type": "code",
   "execution_count": 5,
   "metadata": {
    "collapsed": false
   },
   "outputs": [
    {
     "data": {},
     "metadata": {},
     "output_type": "display_data"
    },
    {
     "data": {
      "image/png": "[encoded data removed]",
      "text/plain": [
       "plot without title"
      ]
     },
     "metadata": {},
     "output_type": "display_data"
    }
   ],
   "source": [
    "ggplot(top_path, aes(Var1, Var2)) + geom_point(shape = 19, size = top_path $ size)"
   ]
  }
 ],
 "metadata": {
  "kernelspec": {
   "display_name": "R",
   "language": "R",
   "name": "ir"
  },
  "language_info": {
   "codemirror_mode": "r",
   "file_extension": ".r",
   "mimetype": "text/x-r-source",
   "name": "R",
   "pygments_lexer": "r",
   "version": "3.3.2"
  }
 },
 "nbformat": 4,
 "nbformat_minor": 2
}
